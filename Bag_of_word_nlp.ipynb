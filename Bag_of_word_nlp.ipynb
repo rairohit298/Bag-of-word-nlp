{
 "cells": [
  {
   "cell_type": "code",
   "execution_count": 1,
   "id": "wound-prototype",
   "metadata": {},
   "outputs": [],
   "source": [
    "#importing all the important library\n",
    "import nltk\n",
    "import re\n",
    "from nltk.corpus import stopwords\n",
    "from nltk.stem.porter import PorterStemmer\n",
    "from nltk.stem import WordNetLemmatizer\n",
    "from sklearn.feature_extraction.text import CountVectorizer"
   ]
  },
  {
   "cell_type": "code",
   "execution_count": 4,
   "id": "narrative-sentence",
   "metadata": {},
   "outputs": [],
   "source": [
    "# taking one paragraph where we can apply bag_of-word\n",
    "paragraph =\"\"\"Sachin Ramesh Tendulkar is  born 24 April 1973) is an Indian former international cricketer who served as \n",
    "                  captain of the Indian national team. He is widely regarded as one of the greatest batsmen in the history of cricket.\n",
    "                  He is the highest run scorer of all time in international cricket, and the only player to have scored one hundred international \n",
    "                  centuries, the first batsman to score a double century in a One Day International (ODI), the holder of the record for the most runs\n",
    "                  in both Test and ODI cricket, and the only player to complete more than 30,000 runs in international cricket.[7] In 2013, he was the \n",
    "                  only Indian cricketer included in an all-time Test World XI named to mark the 150th anniversary of Wisden Cricketers' Almanack.[8][9][10]\n",
    "                  He is affectionately known as Little Master or Master Blaster.[11][12][13][14]\n",
    "                  Tendulkar took up cricket at the age of eleven, made his Test debut on 15 November 1989 against Pakistan in Karachi at the\n",
    "                  age of sixteen, and went on to represent Mumbai domestically and India internationally for close to twenty-four years. \n",
    "                  In 2002, halfway through his career, Wisden Cricketers' Almanack ranked him the second-greatest Test batsman of all time,\n",
    "                  behind Don Bradman, and the second-greatest ODI batsman of all time, behind Viv Richards.[15] Later in his career, \n",
    "                  Tendulkar was a part of the Indian team that won the 2011 World Cup, his first win in six World Cup appearances for India.\n",
    "                  [16] He had previously been named \"Player of the Tournament\" at the 2003 edition of the tournament, held in South Africa.\n",
    "\n",
    "                    Tendulkar received the Arjuna Award in 1994 for his outstanding sporting achievement, \n",
    "                    the Rajiv Gandhi Khel Ratna award in 1997, India's highest sporting honour, and the \n",
    "                    Padma Shri and Padma Vibhushan awards in 1999 and 2008, respectively, India's fourth- and \n",
    "                    second-highest civilian awards.[17] After a few hours of his final match on 16 November 2013, \n",
    "                    the Prime Minister's Office announced the decision to award him the Bharat Ratna, \n",
    "                    India's highest civilian award.[18][19] He is the youngest recipient to date and the first ever sportsperson\n",
    "                    to receive the award.\n",
    "                    He also won the 2010 Sir Garfield Sobers Trophy for cricketer of the year at the ICC awards.\n",
    "                    [22] In 2012, Tendulkar was nominated to the Rajya Sabha, the upper house of the Parliament of India.[23]\n",
    "                    He was also the first sportsperson and the first person without an aviation background to be awarded the honorary\n",
    "                    rank of group captain by the Indian Air Force.[24] In 2012, he was named an Honorary Member of the Order of Australia.[25][26]\n",
    "\n",
    "                    In 2010, Time magazine included Sachin in its annual Time 100 list as one of the\n",
    "                    \"Most Influential People in the World\".[27] In December 2012, Tendulkar announced his \n",
    "                    retirement from ODIs.[28] He retired from Twenty20 cricket in October 2013[29] and subsequently \n",
    "                    retired from all forms of cricket on 16 November 2013 after playing his 200th Test match, against \n",
    "                    the West Indies in Mumbai's Wankhede Stadium.[30] Tendulkar played 664 international cricket matches in \n",
    "                    total, scoring 34,357 runs.[7]\"\"\""
   ]
  },
  {
   "cell_type": "code",
   "execution_count": 6,
   "id": "conservative-madison",
   "metadata": {},
   "outputs": [
    {
     "name": "stdout",
     "output_type": "stream",
     "text": [
      "21\n"
     ]
    }
   ],
   "source": [
    "# cretaing object of steamer class\n",
    "ps = PorterStemmer()\n",
    "\n",
    "wordnet = WordNetLemmatizer() #object of WordNetLemmatizer class\n",
    "\n",
    "#tokenizing the senteces \n",
    "sentences = nltk.sent_tokenize(paragraph)\n",
    "print(len(sentences))"
   ]
  },
  {
   "cell_type": "code",
   "execution_count": 7,
   "id": "three-conservative",
   "metadata": {},
   "outputs": [],
   "source": [
    "#cleaning the raw text\n",
    "corpus =[]\n",
    "for i in range(len(sentences)):\n",
    "    review = re.sub('[^a-zA-Z]', ' ', sentences[i])  # removing all the un necessary word except a-z A-z\n",
    "    review = review.lower() #converting to lowercase\n",
    "    review = review.split()\n",
    "    review = [ps.stem(word) for word in review if word not in set(stopwords.words('english'))]\n",
    "    review =' '.join(review)\n",
    "    corpus.append(review)"
   ]
  },
  {
   "cell_type": "code",
   "execution_count": 8,
   "id": "interim-sheet",
   "metadata": {},
   "outputs": [
    {
     "data": {
      "text/plain": [
       "['sachin ramesh tendulkar born april indian former intern cricket serv captain indian nation team',\n",
       " 'wide regard one greatest batsmen histori cricket',\n",
       " 'highest run scorer time intern cricket player score one hundr intern centuri first batsman score doubl centuri one day intern odi holder record run test odi cricket player complet run intern cricket',\n",
       " 'indian cricket includ time test world xi name mark th anniversari wisden cricket almanack',\n",
       " 'affection known littl master master blaster',\n",
       " 'tendulkar took cricket age eleven made test debut novemb pakistan karachi age sixteen went repres mumbai domest india intern close twenti four year',\n",
       " 'halfway career wisden cricket almanack rank second greatest test batsman time behind bradman second greatest odi batsman time behind viv richard',\n",
       " 'later career tendulkar part indian team world cup first win six world cup appear india',\n",
       " 'previous name player tournament edit tournament held south africa',\n",
       " 'tendulkar receiv arjuna award outstand sport achiev rajiv gandhi khel ratna award india highest sport honour padma shri padma vibhushan award respect india fourth second highest civilian award',\n",
       " 'hour final match novemb prime minist offic announc decis award bharat ratna india highest civilian award',\n",
       " 'youngest recipi date first ever sportsperson receiv award',\n",
       " 'also sir garfield sober trophi cricket year icc award',\n",
       " 'tendulkar nomin rajya sabha upper hous parliament india',\n",
       " 'also first sportsperson first person without aviat background award honorari rank group captain indian air forc',\n",
       " 'name honorari member order australia',\n",
       " 'time magazin includ sachin annual time list one influenti peopl world',\n",
       " 'decemb tendulkar announc retir odi',\n",
       " 'retir twenti cricket octob subsequ retir form cricket novemb play th test match west indi mumbai wankhed stadium',\n",
       " 'tendulkar play intern cricket match total score run',\n",
       " '']"
      ]
     },
     "execution_count": 8,
     "metadata": {},
     "output_type": "execute_result"
    }
   ],
   "source": [
    "corpus"
   ]
  },
  {
   "cell_type": "code",
   "execution_count": 9,
   "id": "catholic-section",
   "metadata": {},
   "outputs": [
    {
     "data": {
      "text/plain": [
       "21"
      ]
     },
     "execution_count": 9,
     "metadata": {},
     "output_type": "execute_result"
    }
   ],
   "source": [
    "len(corpus)"
   ]
  },
  {
   "cell_type": "code",
   "execution_count": 10,
   "id": "bright-bible",
   "metadata": {},
   "outputs": [],
   "source": [
    "#applying bag of words from sk learn using count vectorizer() \n",
    "from sklearn.feature_extraction.text import CountVectorizer\n",
    "cv = CountVectorizer(max_features = 1500)\n",
    "X = cv.fit_transform(corpus).toarray()\n"
   ]
  },
  {
   "cell_type": "code",
   "execution_count": 13,
   "id": "danish-taiwan",
   "metadata": {},
   "outputs": [
    {
     "name": "stdout",
     "output_type": "stream",
     "text": [
      "[[0 0 0 ... 0 0 0]\n",
      " [0 0 0 ... 0 0 0]\n",
      " [0 0 0 ... 0 0 0]\n",
      " ...\n",
      " [0 0 0 ... 0 0 0]\n",
      " [0 0 0 ... 0 0 0]\n",
      " [0 0 0 ... 0 0 0]]\n"
     ]
    }
   ],
   "source": [
    "print(X)"
   ]
  },
  {
   "cell_type": "code",
   "execution_count": 21,
   "id": "structural-clearance",
   "metadata": {},
   "outputs": [
    {
     "data": {
      "text/plain": [
       "21"
      ]
     },
     "execution_count": 21,
     "metadata": {},
     "output_type": "execute_result"
    }
   ],
   "source": [
    "len(X)"
   ]
  },
  {
   "cell_type": "code",
   "execution_count": 19,
   "id": "published-security",
   "metadata": {},
   "outputs": [
    {
     "data": {
      "text/plain": [
       "array([0, 0, 0, 2, 0, 0, 0, 0, 0, 0, 0, 0, 0, 0, 0, 0, 0, 0, 0, 0, 0, 0,\n",
       "       0, 0, 0, 0, 0, 0, 1, 0, 1, 0, 0, 0, 1, 0, 0, 1, 0, 0, 1, 0, 0, 0,\n",
       "       0, 0, 0, 1, 0, 0, 0, 0, 0, 0, 0, 0, 0, 0, 0, 0, 0, 0, 0, 0, 0, 0,\n",
       "       1, 0, 0, 1, 1, 0, 0, 0, 0, 0, 1, 0, 0, 0, 0, 0, 0, 1, 0, 0, 0, 1,\n",
       "       0, 0, 0, 0, 0, 0, 0, 1, 0, 0, 0, 0, 0, 0, 0, 0, 0, 0, 0, 0, 0, 0,\n",
       "       0, 0, 0, 1, 0, 0, 0, 0, 0, 0, 0, 0, 0, 0, 0, 0, 0, 1, 0, 0, 0, 0,\n",
       "       0, 0, 0, 1, 1, 0, 0, 1, 0, 0, 0, 1, 0, 0, 0, 0, 1, 0, 0, 0, 0, 0,\n",
       "       0, 0, 1, 0], dtype=int64)"
      ]
     },
     "execution_count": 19,
     "metadata": {},
     "output_type": "execute_result"
    }
   ],
   "source": [
    "X[5]"
   ]
  },
  {
   "cell_type": "code",
   "execution_count": null,
   "id": "exclusive-labor",
   "metadata": {},
   "outputs": [],
   "source": []
  }
 ],
 "metadata": {
  "kernelspec": {
   "display_name": "Python 3",
   "language": "python",
   "name": "python3"
  },
  "language_info": {
   "codemirror_mode": {
    "name": "ipython",
    "version": 3
   },
   "file_extension": ".py",
   "mimetype": "text/x-python",
   "name": "python",
   "nbconvert_exporter": "python",
   "pygments_lexer": "ipython3",
   "version": "3.7.6"
  }
 },
 "nbformat": 4,
 "nbformat_minor": 5
}
